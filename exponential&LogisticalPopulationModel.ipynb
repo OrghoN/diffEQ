{
 "cells": [
  {
   "cell_type": "markdown",
   "metadata": {},
   "source": [
    "# Population Modelling"
   ]
  },
  {
   "cell_type": "markdown",
   "metadata": {},
   "source": [
    "<font size=3>The United States conducts a census every 10 years. The census has a breakdown of the population by state at the time during which it is conducted. This report attempts to use two models to predict the population of the different states. The two models are the exponential growth model and the logistical growth model</font>"
   ]
  },
  {
   "cell_type": "code",
   "execution_count": 1,
   "metadata": {},
   "outputs": [
    {
     "data": {
      "text/html": [
       "<script>requirejs.config({paths: { 'plotly': ['https://cdn.plot.ly/plotly-latest.min']},});if(!window.Plotly) {{require(['plotly'],function(plotly) {window.Plotly=plotly;});}}</script>"
      ],
      "text/vnd.plotly.v1+html": [
       "<script>requirejs.config({paths: { 'plotly': ['https://cdn.plot.ly/plotly-latest.min']},});if(!window.Plotly) {{require(['plotly'],function(plotly) {window.Plotly=plotly;});}}</script>"
      ]
     },
     "metadata": {},
     "output_type": "display_data"
    }
   ],
   "source": [
    "#Imports of relevant libraries and initializing offline notebooks\n",
    "\n",
    "import plotly\n",
    "import plotly.graph_objs as go\n",
    "import numpy as np\n",
    "\n",
    "#Set notebook mode to offline\n",
    "plotly.offline.init_notebook_mode(connected=True)\n",
    "# plotly.__version__"
   ]
  },
  {
   "cell_type": "markdown",
   "metadata": {},
   "source": [
    "## Exponential Growth\n",
    "\n",
    "There is no conception of a limited environment or constrained resources in a model of exponential population growth.\n",
    "\n",
    "Exponential growth model of population makes the following assumptions about the populations changing:\n",
    "\n",
    "* The rate of growth of the population is proportional to the size of the population.\n",
    "\n",
    "This means that it only has to take only a few quantities into account\n",
    "\n",
    "* $t = time$ (independent variable)\n",
    "* $P = population$ (dependent variable)\n",
    "* $k =  proportionality \\ parameter$ (parameter) between rate of growth of the population and size of the population\n"
   ]
  },
  {
   "cell_type": "markdown",
   "metadata": {},
   "source": [
    "$$\n",
    "\\begin{align}\n",
    "\\therefore \\frac{dP}{dt} &= kP \\\\\n",
    "\\implies \\frac{1}{P}\\,dP &= k \\,dt \\\\\n",
    "\\implies \\int \\frac{1}{P} \\,dP &= \\int k \\,dt \\\\\n",
    "\\implies \\ln P &= kt + c \\\\\n",
    "\\implies  P &= e^{kt + c} \n",
    "\\end{align}\n",
    "$$"
   ]
  },
  {
   "cell_type": "markdown",
   "metadata": {},
   "source": [
    "$P = ae^{kt}+b$"
   ]
  },
  {
   "cell_type": "markdown",
   "metadata": {},
   "source": [
    "The parameters $k$, $a$ and $c$ have to be determined so the function can be fitted to the data for predictive modelling. "
   ]
  },
  {
   "cell_type": "code",
   "execution_count": 4,
   "metadata": {
    "collapsed": true
   },
   "outputs": [],
   "source": [
    "#defining the exponential growth function in code\n",
    "def exponentialGrowth(t,k,a,b):\n",
    "    return a*np.exp(k*t)+b"
   ]
  },
  {
   "cell_type": "markdown",
   "metadata": {},
   "source": [
    "## Logistical Growth\n",
    "\n",
    "Logistical growth ammends the exponential growth model to account for an environment with constained resources.\n",
    "\n",
    "Logistical growth model of population makes the following assumptions about the populations changing:\n",
    "\n",
    "* If the population is small, the rate of growth of the population is proportional to its size.\n",
    "* If the population is too large to be supported by its environment and resources, the population will decrease.\n",
    "\n",
    "The quantities it takes into account are:\n",
    "\n",
    "* $t = time$ (independent variable)\n",
    "* $P = population$ (dependent variable)\n",
    "* $k =  proportionality \\ parameter$ (parameter) between rate of growth of the population and size of the population\n",
    "* $N = carrying \\ capacity$  (parameter) "
   ]
  },
  {
   "cell_type": "markdown",
   "metadata": {},
   "source": [
    "$$\n",
    "\\begin{align}\n",
    "\\therefore \\frac{dP}{dt} &= kP(1-\\frac{P}{N}) \\\\\n",
    "\\implies k\\,dt &= \\frac{1}{P(1-\\frac{P}{N})}\\,dP\\\\\n",
    "\\implies \\int k\\,dt &= \\int \\frac{1}{P}\\,dP + \\int \\frac{N}{1-\\frac{P}{N}}\\\\\n",
    "\\implies kt + c &= \\ln(P) - \\ln(1-\\frac{P}{N})\\\\\n",
    "\\implies  Ce^{kt} &= \\frac{P}{1-\\frac{P}{N}}\\\\\n",
    "\\implies  Ce^{kt} &= P + \\frac{PCe^{kt}}{N}\\\\\n",
    "\\implies P &= (1+\\frac{Ce^{kt}}{N})^{-1}(Ce^{kt})\n",
    "\\end{align}\n",
    "$$"
   ]
  },
  {
   "cell_type": "markdown",
   "metadata": {},
   "source": [
    "$P = (1+\\frac{Ce^{kt}}{N})^{-1}(Ce^{kt}) + b$"
   ]
  },
  {
   "cell_type": "markdown",
   "metadata": {},
   "source": [
    "The parameters $b$ , $C$, $k$ and $N$ have to be determined based on the values that fit the model best"
   ]
  },
  {
   "cell_type": "code",
   "execution_count": null,
   "metadata": {},
   "outputs": [],
   "source": [
    "populationData = {\n",
    "    \"masachusetts\": {\n",
    "        \"years\": np.array(range(1790,2000,10)),\n",
    "        \"population\": np.array([379,423,472,523,610,738,995,1231,1457,1783,2239,2805,3366,3852,4250,4317,4691,5149,5689,5737,6016,6349])\n",
    "    },\n",
    "    \"newYork\": {\n",
    "        \"years\": np.array(range(1790,2000,10)),\n",
    "        \"population\": np.array([340,589,959,1373,1919,2429,3097,3881,4383,5083,6003,7269,9114,10385,12588,13479,14830,16782,18241,17558,17990,18976])\n",
    "    },\n",
    "    \"northCarolina\":{\n",
    "        \"years\": np.array(range(1790,2000,10)),\n",
    "        \"population\": np.array([394,478,556,639,738,753,869,993,1071,1400,1618,1893,2206,2559,3170,3572,4062,4556,5084,5880,6628,8049])\n",
    "    }\n",
    "}\n",
    "\n",
    "populationData"
   ]
  },
  {
   "cell_type": "code",
   "execution_count": null,
   "metadata": {},
   "outputs": [],
   "source": [
    "trace0 = go.Scatter(x=np.asarray([1, 2, 3, 4]), \n",
    "                     y=np.asarray([4, 3, 2, 1]),\n",
    "                     mode = 'lines+markers',\n",
    "                     name = 'down')\n",
    "trace1 = go.Scatter(x=np.asarray([1, 2, 3, 4]), \n",
    "                     y=np.asarray([1,2,3,4]),\n",
    "                     mode = 'lines+markers',\n",
    "                     name = 'up')\n",
    "\n",
    "data = [trace0, trace1]\n",
    "\n",
    "updatemenus = list([\n",
    "    dict(active=-1,\n",
    "         buttons=list([   \n",
    "            dict(label = 'Up',\n",
    "                 method = 'update',\n",
    "                 args = [{'visible': [False, True]},\n",
    "                         {'title': 'Up',\n",
    "                          'annotations': []}]),\n",
    "            dict(label = 'Down',\n",
    "                 method = 'update',\n",
    "                 args = [{'visible': [True, False]},\n",
    "                         {'title': 'Down',\n",
    "                          'annotations': []}]),\n",
    "            dict(label = 'Both',\n",
    "                 method = 'update',\n",
    "                 args = [{'visible': [True, True]},\n",
    "                         {'title': 'Both',\n",
    "                          'annotations': []}])\n",
    "        ]),\n",
    "    )\n",
    "])\n",
    "\n",
    "layout = dict(title='Both', updatemenus=updatemenus)\n",
    "\n",
    "fig = dict(data=data, layout=layout)\n",
    "\n",
    "plotly.offline.iplot(fig, filename='basic-scatter')"
   ]
  },
  {
   "cell_type": "code",
   "execution_count": null,
   "metadata": {},
   "outputs": [],
   "source": [
    "plotly.offline.iplot({\n",
    "    \"data\": [go.Scatter(x=[1, 2, 3, 4], y=[4, 3, 2, 1])],\n",
    "    \"layout\": go.Layout(title=\"hello world\")\n",
    "})"
   ]
  },
  {
   "cell_type": "code",
   "execution_count": null,
   "metadata": {},
   "outputs": [],
   "source": [
    "# Learn about API authentication here: https://plot.ly/python/getting-started\n",
    "# Find your api_key here: https://plot.ly/settings/api\n",
    "\n",
    "import plotly\n",
    "import plotly.plotly as py\n",
    "import plotly.graph_objs as go\n",
    "\n",
    "# Scientific libraries\n",
    "import numpy as np\n",
    "from scipy.optimize import curve_fit\n",
    "\n",
    "\n",
    "x = np.array([399.75, 989.25, 1578.75, 2168.25, 2757.75, 3347.25, 3936.75, 4526.25, 5115.75, 5705.25])\n",
    "y = np.array([109,62,39,13,10,4,2,0,1,2])\n",
    "\n",
    "def exponenial_func(x, a, b, c):\n",
    "    return a*np.exp(-b*x)+c\n",
    "\n",
    "\n",
    "popt, pcov = curve_fit(exponenial_func, x, y, p0=(1, 1e-6, 1))\n",
    "\n",
    "xx = np.linspace(300, 6000, 1000)\n",
    "yy = exponenial_func(xx, *popt)\n",
    "\n",
    "# Creating the dataset, and generating the plot\n",
    "trace1 = go.Scatter(\n",
    "                  x=x,\n",
    "                  y=y,\n",
    "                  mode='markers',\n",
    "                  marker=go.Marker(color='rgb(255, 127, 14)'),\n",
    "                  name='Data'\n",
    "                  )\n",
    "\n",
    "trace2 = go.Scatter(\n",
    "                  x=xx,\n",
    "                  y=yy,\n",
    "                  mode='lines',\n",
    "                  marker=go.Marker(color='rgb(31, 119, 180)'),\n",
    "                  name='Fit'\n",
    "                  )\n",
    "\n",
    "annotation = go.Annotation(\n",
    "                  x=2000,\n",
    "                  y=100,\n",
    "                  text='$\\textbf{Fit}: 163.56e^{-0.00097x} - 1.16$',\n",
    "                  showarrow=False\n",
    "                  )\n",
    "layout = go.Layout(\n",
    "                title='Exponential Fit in Python',\n",
    "                plot_bgcolor='rgb(229, 229, 229)',\n",
    "                  xaxis=go.XAxis(zerolinecolor='rgb(255,255,255)', gridcolor='rgb(255,255,255)'),\n",
    "                  yaxis=go.YAxis(zerolinecolor='rgb(255,255,255)', gridcolor='rgb(255,255,255)'),\n",
    "                  annotations=[annotation]\n",
    "                )\n",
    "\n",
    "data = [trace1, trace2]\n",
    "fig = go.Figure(data=data, layout=layout)\n",
    "\n",
    "plotly.offline.iplot(fig, filename='Exponential-Fit-in-python')"
   ]
  },
  {
   "cell_type": "code",
   "execution_count": null,
   "metadata": {
    "collapsed": true
   },
   "outputs": [],
   "source": []
  }
 ],
 "metadata": {
  "kernelspec": {
   "display_name": "Python 3",
   "language": "python",
   "name": "python3"
  },
  "language_info": {
   "codemirror_mode": {
    "name": "ipython",
    "version": 3
   },
   "file_extension": ".py",
   "mimetype": "text/x-python",
   "name": "python",
   "nbconvert_exporter": "python",
   "pygments_lexer": "ipython3",
   "version": "3.6.1"
  }
 },
 "nbformat": 4,
 "nbformat_minor": 2
}
