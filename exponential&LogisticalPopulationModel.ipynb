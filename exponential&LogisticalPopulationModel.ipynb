{
 "cells": [
  {
   "cell_type": "markdown",
   "metadata": {},
   "source": [
    "$$ P(A \\mid B) = \\frac{P(B \\mid A) \\, P(A)}{P(B)} $$"
   ]
  },
  {
   "cell_type": "code",
   "execution_count": 27,
   "metadata": {},
   "outputs": [
    {
     "data": {
      "text/html": [
       "<script>requirejs.config({paths: { 'plotly': ['https://cdn.plot.ly/plotly-latest.min']},});if(!window.Plotly) {{require(['plotly'],function(plotly) {window.Plotly=plotly;});}}</script>"
      ],
      "text/vnd.plotly.v1+html": [
       "<script>requirejs.config({paths: { 'plotly': ['https://cdn.plot.ly/plotly-latest.min']},});if(!window.Plotly) {{require(['plotly'],function(plotly) {window.Plotly=plotly;});}}</script>"
      ]
     },
     "metadata": {},
     "output_type": "display_data"
    },
    {
     "data": {
      "text/plain": [
       "'2.2.3'"
      ]
     },
     "execution_count": 27,
     "metadata": {},
     "output_type": "execute_result"
    }
   ],
   "source": [
    "import plotly\n",
    "import plotly.graph_objs as go\n",
    "import numpy as np\n",
    "\n",
    "plotly.offline.init_notebook_mode(connected=True)\n",
    "plotly.__version__"
   ]
  },
  {
   "cell_type": "code",
   "execution_count": 35,
   "metadata": {},
   "outputs": [
    {
     "data": {
      "application/vnd.plotly.v1+json": {
       "data": [
        {
         "mode": "lines+markers",
         "name": "down",
         "type": "scatter",
         "x": [
          1,
          2,
          3,
          4
         ],
         "y": [
          4,
          3,
          2,
          1
         ]
        },
        {
         "mode": "lines+markers",
         "name": "up",
         "type": "scatter",
         "x": [
          1,
          2,
          3,
          4
         ],
         "y": [
          1,
          2,
          3,
          4
         ]
        }
       ],
       "layout": {
        "title": "Both",
        "updatemenus": [
         {
          "active": -1,
          "buttons": [
           {
            "args": [
             {
              "visible": [
               false,
               true
              ]
             },
             {
              "annotations": [],
              "title": "Up"
             }
            ],
            "label": "Up",
            "method": "update"
           },
           {
            "args": [
             {
              "visible": [
               true,
               false
              ]
             },
             {
              "annotations": [],
              "title": "Down"
             }
            ],
            "label": "Down",
            "method": "update"
           },
           {
            "args": [
             {
              "visible": [
               true,
               true
              ]
             },
             {
              "annotations": [],
              "title": "Both"
             }
            ],
            "label": "Both",
            "method": "update"
           }
          ]
         }
        ]
       }
      },
      "text/html": [
       "<div id=\"738877cf-6a01-4f7a-916d-1445fa0af2bf\" style=\"height: 525px; width: 100%;\" class=\"plotly-graph-div\"></div><script type=\"text/javascript\">require([\"plotly\"], function(Plotly) { window.PLOTLYENV=window.PLOTLYENV || {};window.PLOTLYENV.BASE_URL=\"https://plot.ly\";Plotly.newPlot(\"738877cf-6a01-4f7a-916d-1445fa0af2bf\", [{\"type\": \"scatter\", \"x\": [1, 2, 3, 4], \"y\": [4, 3, 2, 1], \"mode\": \"lines+markers\", \"name\": \"down\"}, {\"type\": \"scatter\", \"x\": [1, 2, 3, 4], \"y\": [1, 2, 3, 4], \"mode\": \"lines+markers\", \"name\": \"up\"}], {\"title\": \"Both\", \"updatemenus\": [{\"active\": -1, \"buttons\": [{\"label\": \"Up\", \"method\": \"update\", \"args\": [{\"visible\": [false, true]}, {\"title\": \"Up\", \"annotations\": []}]}, {\"label\": \"Down\", \"method\": \"update\", \"args\": [{\"visible\": [true, false]}, {\"title\": \"Down\", \"annotations\": []}]}, {\"label\": \"Both\", \"method\": \"update\", \"args\": [{\"visible\": [true, true]}, {\"title\": \"Both\", \"annotations\": []}]}]}]}, {\"showLink\": true, \"linkText\": \"Export to plot.ly\"})});</script>"
      ],
      "text/vnd.plotly.v1+html": [
       "<div id=\"738877cf-6a01-4f7a-916d-1445fa0af2bf\" style=\"height: 525px; width: 100%;\" class=\"plotly-graph-div\"></div><script type=\"text/javascript\">require([\"plotly\"], function(Plotly) { window.PLOTLYENV=window.PLOTLYENV || {};window.PLOTLYENV.BASE_URL=\"https://plot.ly\";Plotly.newPlot(\"738877cf-6a01-4f7a-916d-1445fa0af2bf\", [{\"type\": \"scatter\", \"x\": [1, 2, 3, 4], \"y\": [4, 3, 2, 1], \"mode\": \"lines+markers\", \"name\": \"down\"}, {\"type\": \"scatter\", \"x\": [1, 2, 3, 4], \"y\": [1, 2, 3, 4], \"mode\": \"lines+markers\", \"name\": \"up\"}], {\"title\": \"Both\", \"updatemenus\": [{\"active\": -1, \"buttons\": [{\"label\": \"Up\", \"method\": \"update\", \"args\": [{\"visible\": [false, true]}, {\"title\": \"Up\", \"annotations\": []}]}, {\"label\": \"Down\", \"method\": \"update\", \"args\": [{\"visible\": [true, false]}, {\"title\": \"Down\", \"annotations\": []}]}, {\"label\": \"Both\", \"method\": \"update\", \"args\": [{\"visible\": [true, true]}, {\"title\": \"Both\", \"annotations\": []}]}]}]}, {\"showLink\": true, \"linkText\": \"Export to plot.ly\"})});</script>"
      ]
     },
     "metadata": {},
     "output_type": "display_data"
    }
   ],
   "source": [
    "trace0 = go.Scatter(x=np.asarray([1, 2, 3, 4]), \n",
    "                     y=np.asarray([4, 3, 2, 1]),\n",
    "                     mode = 'lines+markers',\n",
    "                     name = 'down')\n",
    "trace1 = go.Scatter(x=np.asarray([1, 2, 3, 4]), \n",
    "                     y=np.asarray([1,2,3,4]),\n",
    "                     mode = 'lines+markers',\n",
    "                     name = 'up')\n",
    "\n",
    "data = [trace0, trace1]\n",
    "\n",
    "updatemenus = list([\n",
    "    dict(active=-1,\n",
    "         buttons=list([   \n",
    "            dict(label = 'Up',\n",
    "                 method = 'update',\n",
    "                 args = [{'visible': [False, True]},\n",
    "                         {'title': 'Up',\n",
    "                          'annotations': []}]),\n",
    "            dict(label = 'Down',\n",
    "                 method = 'update',\n",
    "                 args = [{'visible': [True, False]},\n",
    "                         {'title': 'Down',\n",
    "                          'annotations': []}]),\n",
    "            dict(label = 'Both',\n",
    "                 method = 'update',\n",
    "                 args = [{'visible': [True, True]},\n",
    "                         {'title': 'Both',\n",
    "                          'annotations': []}])\n",
    "        ]),\n",
    "    )\n",
    "])\n",
    "\n",
    "layout = dict(title='Both', updatemenus=updatemenus)\n",
    "\n",
    "fig = dict(data=data, layout=layout)\n",
    "\n",
    "plotly.offline.iplot(fig, filename='basic-scatter')"
   ]
  },
  {
   "cell_type": "code",
   "execution_count": 30,
   "metadata": {},
   "outputs": [
    {
     "data": {
      "application/vnd.plotly.v1+json": {
       "data": [
        {
         "type": "scatter",
         "x": [
          1,
          2,
          3,
          4
         ],
         "y": [
          4,
          3,
          2,
          1
         ]
        }
       ],
       "layout": {
        "title": "hello world"
       }
      },
      "text/html": [
       "<div id=\"c5f54195-6c9b-40f7-a02e-4b7333ebcce7\" style=\"height: 525px; width: 100%;\" class=\"plotly-graph-div\"></div><script type=\"text/javascript\">require([\"plotly\"], function(Plotly) { window.PLOTLYENV=window.PLOTLYENV || {};window.PLOTLYENV.BASE_URL=\"https://plot.ly\";Plotly.newPlot(\"c5f54195-6c9b-40f7-a02e-4b7333ebcce7\", [{\"type\": \"scatter\", \"x\": [1, 2, 3, 4], \"y\": [4, 3, 2, 1]}], {\"title\": \"hello world\"}, {\"showLink\": true, \"linkText\": \"Export to plot.ly\"})});</script>"
      ],
      "text/vnd.plotly.v1+html": [
       "<div id=\"c5f54195-6c9b-40f7-a02e-4b7333ebcce7\" style=\"height: 525px; width: 100%;\" class=\"plotly-graph-div\"></div><script type=\"text/javascript\">require([\"plotly\"], function(Plotly) { window.PLOTLYENV=window.PLOTLYENV || {};window.PLOTLYENV.BASE_URL=\"https://plot.ly\";Plotly.newPlot(\"c5f54195-6c9b-40f7-a02e-4b7333ebcce7\", [{\"type\": \"scatter\", \"x\": [1, 2, 3, 4], \"y\": [4, 3, 2, 1]}], {\"title\": \"hello world\"}, {\"showLink\": true, \"linkText\": \"Export to plot.ly\"})});</script>"
      ]
     },
     "metadata": {},
     "output_type": "display_data"
    }
   ],
   "source": [
    "plotly.offline.iplot({\n",
    "    \"data\": [go.Scatter(x=[1, 2, 3, 4], y=[4, 3, 2, 1])],\n",
    "    \"layout\": go.Layout(title=\"hello world\")\n",
    "})"
   ]
  }
 ],
 "metadata": {
  "kernelspec": {
   "display_name": "Python 3",
   "language": "python",
   "name": "python3"
  },
  "language_info": {
   "codemirror_mode": {
    "name": "ipython",
    "version": 3
   },
   "file_extension": ".py",
   "mimetype": "text/x-python",
   "name": "python",
   "nbconvert_exporter": "python",
   "pygments_lexer": "ipython3",
   "version": "3.6.1"
  }
 },
 "nbformat": 4,
 "nbformat_minor": 2
}
