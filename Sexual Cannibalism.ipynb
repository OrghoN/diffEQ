{
 "cells": [
  {
   "cell_type": "code",
   "execution_count": 110,
   "metadata": {},
   "outputs": [
    {
     "data": {
      "text/html": [
       "<script>requirejs.config({paths: { 'plotly': ['https://cdn.plot.ly/plotly-latest.min']},});if(!window.Plotly) {{require(['plotly'],function(plotly) {window.Plotly=plotly;});}}</script>"
      ],
      "text/vnd.plotly.v1+html": [
       "<script>requirejs.config({paths: { 'plotly': ['https://cdn.plot.ly/plotly-latest.min']},});if(!window.Plotly) {{require(['plotly'],function(plotly) {window.Plotly=plotly;});}}</script>"
      ]
     },
     "metadata": {},
     "output_type": "display_data"
    }
   ],
   "source": [
    "#Imports of relevant libraries and initializing offline notebooks\n",
    "\n",
    "#Graphing libraries\n",
    "import plotly\n",
    "import plotly.graph_objs as go\n",
    "\n",
    "#Number libraries\n",
    "import numpy as np\n",
    "from scipy.optimize import curve_fit\n",
    "\n",
    "#Set notebook mode to offline\n",
    "plotly.offline.init_notebook_mode(connected=True)\n",
    "# plotly.__version__"
   ]
  },
  {
   "cell_type": "code",
   "execution_count": 121,
   "metadata": {
    "collapsed": true
   },
   "outputs": [],
   "source": [
    "eggsNonCannibal, stdevNonCannibal = 44, 2\n",
    "eggsCannibal, stdevCannibal = 19, 2 \n",
    "n = 10\n",
    "pred = 0.6"
   ]
  },
  {
   "cell_type": "code",
   "execution_count": 124,
   "metadata": {},
   "outputs": [],
   "source": [
    "def cannibal(n, mu, sigma, pred):\n",
    "    noPredR = np.random.normal(mu,sigma) * n\n",
    "    predR = noPredR - pred * noPredR\n",
    "    return [noPredR, predR]\n",
    "\n",
    "def nonCannibal(n, mu, sigma, pred):\n",
    "    noPredR = np.random.normal(mu,sigma) * n\n",
    "    predR = noPredR - pred * noPredR\n",
    "    return [noPredR, predR]\n",
    "\n",
    "def total(n, muC, muN, sigmaC, sigmaN, pred):\n",
    "    noPredR = (0.25* cannibal(n, muC, sigmaC, pred)[0] + 0.75 * nonCannibal(n,muN, sigmaN, pred)[0])\n",
    "    predR = (noPredR - (pred * noPredR) )\n",
    "               \n",
    "    return [noPredR, predR]"
   ]
  },
  {
   "cell_type": "code",
   "execution_count": 127,
   "metadata": {
    "code_folding": []
   },
   "outputs": [
    {
     "data": {
      "application/vnd.plotly.v1+json": {
       "data": [
        {
         "mode": "lines+markers",
         "name": "25% cannibal Population",
         "type": "scatter",
         "x": [
          1,
          2,
          3,
          4,
          5,
          6,
          7,
          8,
          9
         ],
         "y": [
          10,
          72.01642023310701,
          627.28782430291,
          4611.501794300155,
          29937.93152639173,
          210993.66873934044,
          1797254.47279493,
          12523545.61387683,
          96722884.94548681,
          745843816.7511213
         ]
        },
        {
         "mode": "lines+markers",
         "name": "no Cannibal",
         "type": "scatter",
         "x": [
          1,
          2,
          3,
          4,
          5,
          6,
          7,
          8,
          9
         ],
         "y": [
          10,
          176.53226084702413,
          3204.668808844831,
          56417.44075505312,
          1059835.6853622699,
          19674451.588820588,
          351819289.58288634,
          6401480966.39282,
          115139019899.43164,
          2042877855988.3682
         ]
        },
        {
         "mode": "lines+markers",
         "name": "all Cannibal",
         "type": "scatter",
         "x": [
          1,
          2,
          3,
          4,
          5,
          6,
          7,
          8,
          9
         ],
         "y": [
          10,
          159.69969553089945,
          2334.1625205524324,
          37475.85588079542,
          570458.8548360841,
          8644877.667149896,
          141546186.30511275,
          2075457065.2150393,
          31005445896.64025,
          517596632819.07556
         ]
        }
       ],
       "layout": {}
      },
      "text/html": [
       "<div id=\"2c29f799-4127-4857-9a09-a651964e03fc\" style=\"height: 525px; width: 100%;\" class=\"plotly-graph-div\"></div><script type=\"text/javascript\">require([\"plotly\"], function(Plotly) { window.PLOTLYENV=window.PLOTLYENV || {};window.PLOTLYENV.BASE_URL=\"https://plot.ly\";Plotly.newPlot(\"2c29f799-4127-4857-9a09-a651964e03fc\", [{\"type\": \"scatter\", \"x\": [1, 2, 3, 4, 5, 6, 7, 8, 9], \"y\": [10, 72.01642023310701, 627.28782430291, 4611.501794300155, 29937.93152639173, 210993.66873934044, 1797254.47279493, 12523545.61387683, 96722884.94548681, 745843816.7511213], \"mode\": \"lines+markers\", \"name\": \"25% cannibal Population\"}, {\"type\": \"scatter\", \"x\": [1, 2, 3, 4, 5, 6, 7, 8, 9], \"y\": [10, 176.53226084702413, 3204.668808844831, 56417.44075505312, 1059835.6853622699, 19674451.588820588, 351819289.58288634, 6401480966.39282, 115139019899.43164, 2042877855988.3682], \"mode\": \"lines+markers\", \"name\": \"no Cannibal\"}, {\"type\": \"scatter\", \"x\": [1, 2, 3, 4, 5, 6, 7, 8, 9], \"y\": [10, 159.69969553089945, 2334.1625205524324, 37475.85588079542, 570458.8548360841, 8644877.667149896, 141546186.30511275, 2075457065.2150393, 31005445896.64025, 517596632819.07556], \"mode\": \"lines+markers\", \"name\": \"all Cannibal\"}], {}, {\"showLink\": true, \"linkText\": \"Export to plot.ly\"})});</script>"
      ],
      "text/vnd.plotly.v1+html": [
       "<div id=\"2c29f799-4127-4857-9a09-a651964e03fc\" style=\"height: 525px; width: 100%;\" class=\"plotly-graph-div\"></div><script type=\"text/javascript\">require([\"plotly\"], function(Plotly) { window.PLOTLYENV=window.PLOTLYENV || {};window.PLOTLYENV.BASE_URL=\"https://plot.ly\";Plotly.newPlot(\"2c29f799-4127-4857-9a09-a651964e03fc\", [{\"type\": \"scatter\", \"x\": [1, 2, 3, 4, 5, 6, 7, 8, 9], \"y\": [10, 72.01642023310701, 627.28782430291, 4611.501794300155, 29937.93152639173, 210993.66873934044, 1797254.47279493, 12523545.61387683, 96722884.94548681, 745843816.7511213], \"mode\": \"lines+markers\", \"name\": \"25% cannibal Population\"}, {\"type\": \"scatter\", \"x\": [1, 2, 3, 4, 5, 6, 7, 8, 9], \"y\": [10, 176.53226084702413, 3204.668808844831, 56417.44075505312, 1059835.6853622699, 19674451.588820588, 351819289.58288634, 6401480966.39282, 115139019899.43164, 2042877855988.3682], \"mode\": \"lines+markers\", \"name\": \"no Cannibal\"}, {\"type\": \"scatter\", \"x\": [1, 2, 3, 4, 5, 6, 7, 8, 9], \"y\": [10, 159.69969553089945, 2334.1625205524324, 37475.85588079542, 570458.8548360841, 8644877.667149896, 141546186.30511275, 2075457065.2150393, 31005445896.64025, 517596632819.07556], \"mode\": \"lines+markers\", \"name\": \"all Cannibal\"}], {}, {\"showLink\": true, \"linkText\": \"Export to plot.ly\"})});</script>"
      ]
     },
     "metadata": {},
     "output_type": "display_data"
    }
   ],
   "source": [
    "populationCannibal = [n]\n",
    "populationNonCannibal = [n]\n",
    "populationTotal = [n]\n",
    "\n",
    "times = np.array(range(1,10))\n",
    "\n",
    "for i in times:\n",
    "    populationCannibal.append(cannibal(populationCannibal[i-1], eggsCannibal, stdevCannibal, pred)[1])\n",
    "    populationNonCannibal.append(nonCannibal(populationNonCannibal[i-1], eggsNonCannibal, stdevNonCannibal, pred)[1])\n",
    "    populationTotal.append(total(populationTotal[i-1], eggsCannibal, eggsNonCannibal, stdevCannibal, stdevNonCannibal, pred)[1])\n",
    "    \n",
    "traceCannibal = go.Scatter(x = times,\n",
    "                       y = populationCannibal,\n",
    "                       mode = \"lines+markers\",\n",
    "                       name = \"25% cannibal Population\")\n",
    "\n",
    "traceNonCannibal = go.Scatter(x = times,\n",
    "                       y = populationNonCannibal,\n",
    "                       mode = \"lines+markers\",\n",
    "                       name = \"no Cannibal\")\n",
    "\n",
    "traceTotal = go.Scatter(x = times,\n",
    "                       y = populationTotal,\n",
    "                       mode = \"lines+markers\",\n",
    "                       name = \"all Cannibal\")\n",
    "\n",
    "\n",
    "data = [traceCannibal, traceNonCannibal, traceTotal]\n",
    "\n",
    "plotly.offline.iplot(data, filename='dataPlot')"
   ]
  },
  {
   "cell_type": "code",
   "execution_count": null,
   "metadata": {
    "collapsed": true
   },
   "outputs": [],
   "source": []
  }
 ],
 "metadata": {
  "kernelspec": {
   "display_name": "Python 3",
   "language": "python",
   "name": "python3"
  },
  "language_info": {
   "codemirror_mode": {
    "name": "ipython",
    "version": 3
   },
   "file_extension": ".py",
   "mimetype": "text/x-python",
   "name": "python",
   "nbconvert_exporter": "python",
   "pygments_lexer": "ipython3",
   "version": "3.6.1"
  },
  "latex_envs": {
   "LaTeX_envs_menu_present": true,
   "autoclose": true,
   "autocomplete": true,
   "bibliofile": "biblio.bib",
   "cite_by": "apalike",
   "current_citInitial": 1,
   "eqLabelWithNumbers": true,
   "eqNumInitial": 1,
   "hotkeys": {
    "equation": "Ctrl-E",
    "itemize": "Ctrl-I"
   },
   "labels_anchors": false,
   "latex_user_defs": false,
   "report_style_numbering": false,
   "user_envs_cfg": false
  }
 },
 "nbformat": 4,
 "nbformat_minor": 2
}
